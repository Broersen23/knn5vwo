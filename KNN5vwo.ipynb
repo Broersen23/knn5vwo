{
  "nbformat": 4,
  "nbformat_minor": 0,
  "metadata": {
    "colab": {
      "provenance": [],
      "authorship_tag": "ABX9TyPDpvmJdKCRAXYDG6FgQlNq",
      "include_colab_link": true
    },
    "kernelspec": {
      "name": "python3",
      "display_name": "Python 3"
    },
    "language_info": {
      "name": "python"
    }
  },
  "cells": [
    {
      "cell_type": "markdown",
      "metadata": {
        "id": "view-in-github",
        "colab_type": "text"
      },
      "source": [
        "<a href=\"https://colab.research.google.com/github/Broersen23/knn5vwo/blob/main/KNN5vwo.ipynb\" target=\"_parent\"><img src=\"https://colab.research.google.com/assets/colab-badge.svg\" alt=\"Open In Colab\"/></a>"
      ]
    },
    {
      "cell_type": "markdown",
      "source": [
        "De k-NN-classifier werkt als volgt; in plaats van alleen de dichtstbijzijnde buur te gebruiken, kijkt deze naar de **k** dichtstbijzijnde buren en kiest dan de meest voorkomende klasse binnen die groep. Met **k = 1** doet k-NN precies hetzelfde als de gewone NN-classifier: het baseert zich op de  dichtstbijzijnde buur. Als we waarde 3 kiezen gaan we de drie dichtbijzijnste buren bekijken.\n",
        "\n",
        "### Voorbeeld:\n",
        "\n",
        "Stel dat we het volgende voorbeeld bekijken waarin een testpunt (groene stip) geclassificeerd moet worden als behorend bij ofwel blauwe vierkantjes ofwel rode driehoekjes:\n",
        "\n",
        "![titel of alt-tekst](https://raw.githubusercontent.com/Broersen23/knn5vwo/2b56c372de8c57b61752acc16db4903e3164f98b/nearest%20sample.png\n",
        ")\n",
        "\n",
        "- Bij **k = 1** wordt het testpunt geclassificeerd als een rode driehoek, omdat de dichtstbijzijnde buur een rode driehoek is.\n",
        "- Bij **k = 3** (de volle cirkel) zijn er 2 rode driehoeken en 1 blauw vierkant → resultaat: rode driehoek.\n",
        "- Bij **k = 5** (de gestippelde cirkel) zijn er 3 blauwe vierkanten en 2 rode driehoeken → resultaat: blauw vierkant.\n",
        "\n",
        "Net als Nearest Neighbour is k-NN een **classificatie-algoritme**: het voorspelt de klasse van een nieuw voorbeeld op basis van data waarvan je de juiste classificatie al weet (de trainingsdata). Beide methodes gebruiken dezelfde soort data, maar k-NN kijkt naar meer buren bij het maken van een voorspelling.\n",
        "\n",
        "Bijvoorbeeld: je wil voorspellen of een nieuwe banktransactie **frauduleus** is. Je vergelijkt de nieuwe transactie met eerdere transacties op basis van kenmerken zoals het bedrag, het land van herkomst, tijdstip, enzovoort. Als je weet welke van die eerdere transacties fraude waren, kun je die kennis gebruiken om de nieuwe transactie te beoordelen.\n",
        "\n",
        "---\n",
        "\n",
        "## Nearest Neighbour (NN)\n",
        "\n",
        "We beginnen simpel, met het vinden van de **dichtstbijzijnde buur**. We gebruiken hiervoor de **Euclidische afstand** (rechte lijn-afstand) om te bepalen wat de dichtstbijzijnde buur is.\n",
        "\n",
        "### Euclidische Afstand\n",
        "<img src=\"https://raw.githubusercontent.com/Broersen23/knn5vwo/dce75d5fb6920b9d8ce0df1c637af94a5693bf7b/pythagoras.png\" width=\"300\"/>\n",
        "\n",
        "De afstand `d` tussen punt `p` met coördinaten `(px, py)` en punt `q` met coördinaten `(qx, qy)` is:\n",
        "\n",
        "$$\n",
        "\\text{dist}(p, q) = \\sqrt{ (x_1 - x_2)^2  +(y_1 - y_2)^2}\n",
        "$$\n",
        "\n",
        "Een ander voordeel van het op deze manier opschrijven, is dat we dan ook de **hoofdletter sigma-notatie** kunnen gebruiken om de formule voor de Euclidische afstand in een **algemene vorm** te schrijven. Daarmee werkt de formule voor **elk aantal dimensies**:\n",
        "\n",
        "$$\n",
        "\\text{dist}(p, q) = \\sqrt{ \\sum_{i=1}^{d} (p_i - q_i)^2 }\n",
        "$$\n",
        "\n",
        "Hierbij is \\( d \\) het aantal dimensies (of assen) waarover je de afstand wilt berekenen.  \n",
        "Als we \\( d = 2 \\) gebruiken, dan krijgen we precies de eerdere formule terug.  \n",
        "Maar we zouden ook \\( d = 7 \\) of \\( d = 24 \\) kunnen gebruiken — of elk ander positief geheel getal.\n",
        "\n",
        "Let op: bij meer dan 2 dimensies wordt het moeilijk om de afstand **grafisch te tonen**, dus houden we het voorlopig op 2.\n",
        "\n",
        "---\n",
        "\n",
        "### Opdracht 1: Bereken de afstand\n",
        "\n",
        "Maak de functie `dist(p, q)` hieronder af. Deze functie moet de **Euclidische afstand** berekenen tussen twee coördinatenlijsten `p` en `q`, en het resultaat teruggeven.\n",
        "We schrijven een functie die de afstand berekent tussen twee punten in een vlak.\n",
        "Elk punt is een lijst met twee getallen: de x- en de y-coördinaat.\n",
        "\n",
        "Bijvoorbeeld:\n",
        "\n",
        "Punt A: [1, 2] → dat betekent: x = 1, y = 2\n",
        "\n",
        "Punt B: [3, 4] → dat betekent: x = 3, y = 4\n",
        "\n",
        "We willen nu de rechte lijn afstand tussen die twee punten berekenen, oftewel de Euclidische afstand.\n",
        "Je mag ervan uitgaan dat `p` en `q` altijd 2D zijn (dus \\( d = 2 \\)) — ze hebben dus **altijd precies 2 getallen**:  \n",
        "\n",
        "- index `0` is de x-waarde  \n",
        "- index `1` is de y-waarde\n",
        "\n",
        "ofwel a[0] = 1   Zie jij dit ook?\n",
        "\n",
        "Gebruik `math.sqrt(...)` uit de `math`-bibliotheek om de vierkantswortel te berekenen.\n",
        "\n",
        "> 💡 Tip: De functie hoeft alleen te werken voor \\( d = 2 \\), maar het is een leuke uitdaging om hem ook te laten werken voor elk willekeurig \\( d \\)!\n"
      ],
      "metadata": {
        "id": "QQkrBDHv3T5a"
      }
    },
    {
      "cell_type": "code",
      "source": [
        "import math\n",
        "\n",
        "# Vraag1: Wat is de waarde van b[1]?\n",
        "antwoord = ...\n",
        "\n",
        "def dist(p, q):\n",
        "    #vul hier iets in\n",
        "\n",
        "a = [1, 2]\n",
        "b = [3, 4]\n",
        "\n",
        "distance = dist(a, b)\n",
        "print(f'The distance between the points {a} and {b} is {distance:.4f}')"
      ],
      "metadata": {
        "id": "bJebfLFX3oeM"
      },
      "execution_count": null,
      "outputs": []
    },
    {
      "cell_type": "code",
      "source": [
        "# Testing cell\n",
        "# Automatische check\n",
        "\n",
        "assert antwoord == -6 + 12 - 3 - 3 + 2 + 2, \"Oeps! b[1] is het tweede getal in de lijst.\"\n",
        "print(\"vraag1:✅ Goed gedaan! Je snapt hoe indexeren werkt.\")\n",
        "\n",
        "assert abs(dist(a, b) - math.sqrt(8)) < 10**-10, 'Something is wrong in your calculation.';\n",
        "print('def goed ingevuld?:✅ Goed gedaan! Je snapt hoe je de functie moest invullen.')"
      ],
      "metadata": {
        "id": "XbKWWZkN21XW"
      },
      "execution_count": null,
      "outputs": []
    },
    {
      "cell_type": "markdown",
      "source": [
        "## Trainingsdata\n",
        "\n",
        "Nu we de afstand tussen twee punten kunnen berekenen, kunnen we ook het dichtstbijzijnde punt bepalen uit een verzameling coördinaten. Dit kun je doen door **elke punt één voor één te bekijken**, en steeds bij te houden:\n",
        "- welk punt op dat moment het dichtstbij is,\n",
        "- en wat de bijbehorende afstand is.\n",
        "\n",
        "Hieronder zie je de dataset die we in de rest van deze opdracht gaan gebruiken. Elk punt wordt weergegeven als een lijst van coördinaten, waarbij de eerste waarde overeenkomt met de **x-as** en de tweede waarde met de **y-as**.\n",
        "\n",
        "De volledige verzameling punten wordt opgeslagen in een lijst met de naam `training_points`. Voor elk van deze punten is er ook een **klasse** (label), die aangeeft bij welke groep het punt hoort. Er zijn twee mogelijke klassen: `-1` en `1`.\n",
        "\n",
        "Als we het voorbeeld van fraude-detectie gebruiken:\n",
        "- `-1` betekent bijvoorbeeld dat **geen fraude** is vastgesteld,\n",
        "- `1` betekent dat **wel fraude** is gevonden.\n",
        "\n",
        "De klassen van de punten worden apart opgeslagen in de lijst `training_classes`. Elk punt in `training_points` heeft **precies één bijbehorende klasse**, en die staat op dezelfde index in `training_classes`.\n",
        "\n",
        "📌 Voorbeeld:\n",
        "- Het punt op index `3` in `training_points` is `[35, 20]`\n",
        "- Als we willen weten bij welke klasse dat hoort, kijken we naar index `3` in `training_classes`\n",
        "- Daar vinden we: `1` → dus dat punt wordt als **fraude** beschouwd\n",
        "\n",
        "---\n",
        "\n",
        "De functie `plot_points()` is hieronder al voor je geschreven. Lees de code goed door en zorg dat je begrijpt wat er gebeurt.  \n",
        "Voer daarna de code uit om de **grafiek** van de trainingsdata te bekijken en te zien hoe de punten verdeeld zijn.\n"
      ],
      "metadata": {
        "id": "OpfAQ1Kk_gSW"
      }
    },
    {
      "cell_type": "code",
      "source": [
        "%matplotlib inline\n",
        "\n",
        "import matplotlib.pyplot as plt\n",
        "\n",
        "\n",
        "# Training data\n",
        "training_points = [[20, 14], [9, 23], [2, 4], [35, 20], [39, 9], [34, 5],\n",
        "                   [18, 18], [22, 4], [3, 30], [26, 35], [16, 38]]\n",
        "\n",
        "training_classes = [1, -1, -1, 1, 1, 1, -1, 1, -1, 1, -1]\n",
        "\n",
        "\n",
        "def plot_points(points, classes):\n",
        "    # Loop over all the indices i from 0 to the length of the points list\n",
        "    for i in range(len(points)):\n",
        "\n",
        "        # Get the i-th point and the i-th class from the lists\n",
        "        point = points[i]\n",
        "        point_class = classes[i]\n",
        "\n",
        "        # Color points with class 1 blue\n",
        "        point_color = 'blue'\n",
        "\n",
        "        # Color points with class -1 red\n",
        "        if point_class == -1:\n",
        "            point_color = 'red'\n",
        "\n",
        "        # Plot each point using the x-value at position 0 and the y-value\n",
        "        # at position 1. Plot the point with the correct color for its class.\n",
        "        plt.scatter(x=point[0], y=point[1], color=point_color)\n",
        "\n",
        "    plt.show()\n",
        "\n",
        "plot_points(training_points, training_classes)"
      ],
      "metadata": {
        "id": "4ukZjT1s5F0N"
      },
      "execution_count": null,
      "outputs": []
    },
    {
      "cell_type": "markdown",
      "source": [
        "## Opdracht 2: Het dichtstbijzijnde punt vinden\n",
        "\n",
        "Stel dat we een **nieuw punt** hebben dat we willen classificeren, genaamd `test_point`.  \n",
        "Om dit punt te kunnen classificeren, moeten we eerst bepalen welk punt uit de trainingsdata het **dichtstbij** ligt.\n",
        "\n",
        "Voor nu hoef je je **nog niet bezig te houden met de klasse (label)** van dat punt — het enige wat je hoeft te doen is bepalen **welk punt het dichtstbij ligt bij `test_point`**.\n",
        "\n",
        "---\n",
        "\n",
        "### 🔧 Wat moet je doen?\n",
        "\n",
        "Vul de code hieronder aan zodat je het punt vindt dat het dichtstbij `test_point` ligt, vanuit de lijst `training_points`.\n",
        "\n",
        "Gebruik hiervoor de functie `dist()` die je eerder hebt gemaakt. Daarmee kun je de afstand berekenen tussen twee punten.\n",
        "\n",
        "Sla het resultaat op in de volgende variabelen:\n",
        "- `nearest_point`: het dichtstbijzijnde punt zelf\n",
        "- `nearest_distance`: de afstand tot dat punt\n",
        "\n",
        "---\n",
        "\n",
        "> 🔁 **Let op:** In een echte programmeeromgeving zou je voor dit soort herhalende code meestal een aparte functie schrijven.\n",
        ">\n",
        "> Maar voor deze opdracht is het prima om de code gewoon te **kopiëren en plakken** wanneer je het later opnieuw nodig hebt.\n",
        "> Je kunt de code dan aanpassen waar nodig. In andere modules gaan we nog verder in op het schrijven van nette en herbruikbare code.\n"
      ],
      "metadata": {
        "id": "vapmRYwp_wTe"
      }
    },
    {
      "cell_type": "code",
      "source": [
        "# Our test point, to which we want to find the closest training point\n",
        "test_point = [21, 25]\n",
        "\n",
        "# Set current closest distance to something very far away\n",
        "nearest_distance = math.inf\n",
        "nearest_point = None\n",
        "\n",
        "# Loop over the indices in the training_points list\n",
        "for i in range(len(training_points)):\n",
        "    point = training_points[i]\n",
        "    #afstand is roep functie dist aan met point en test point\n",
        "\n",
        "    #als de afstand kleiner is nearest_distance hebben een nieuwe dichtbijzijndse punt\n",
        "    #maak dan deze kleinste afstand de nieuwe afstand en sla ook het punt op in nearest punt\n",
        "\n",
        ""
      ],
      "metadata": {
        "id": "-uFsPSsv_qXh"
      },
      "execution_count": null,
      "outputs": []
    },
    {
      "cell_type": "markdown",
      "source": [
        "## Controleren van je resultaten\n",
        "\n",
        "Hieronder zie je een visualisatie van het testpunt en een codecel die controleert of jouw oplossing klopt.  \n",
        "Zorg ervoor dat alles correct werkt en dat je begrijpt wat het resultaat betekent, **voordat je doorgaat naar de volgende opdracht**.\n"
      ],
      "metadata": {
        "id": "5toZzxkTAF-4"
      }
    },
    {
      "cell_type": "code",
      "source": [
        "# Plot the test point in green\n",
        "plt.scatter(x=test_point[0], y=test_point[1], color='green')\n",
        "\n",
        "# Add the training points to the plot\n",
        "plot_points(training_points, training_classes)\n",
        "\n",
        "# Print the results\n",
        "print(f'The closest training point to the test point is at {nearest_point}')"
      ],
      "metadata": {
        "id": "-u624pSgAIbI"
      },
      "execution_count": null,
      "outputs": []
    },
    {
      "cell_type": "code",
      "source": [
        "# Testing cell\n",
        "assert abs(nearest_distance - math.sqrt(58)) < 10**-10, 'This is not the correct distance.'\n",
        "assert nearest_point == [18, 18], 'This is not the closest point.'; print('Solution seems correct!')"
      ],
      "metadata": {
        "id": "OPYueIvnALL1"
      },
      "execution_count": null,
      "outputs": []
    },
    {
      "cell_type": "markdown",
      "source": [
        "## Opdracht 3: Nearest Neighbour-classifier\n",
        "\n",
        "Om het testpunt te kunnen classificeren, moeten we **naast het dichtstbijzijnde trainingspunt vinden**, ook weten **welke klasse** dat punt heeft.  \n",
        "Als we dat kunnen bepalen, hebben we eigenlijk al een complete **Nearest Neighbour-classifier** gebouwd!\n",
        "\n",
        "---\n",
        "\n",
        "### 🔧 Wat ga je maken?\n",
        "\n",
        "Hieronder staat de functie `nearest_neighbour`, die je moet afmaken.  \n",
        "Deze functie voert het classificatie-algoritme uit.\n",
        "\n",
        "De functie krijgt drie argumenten:\n",
        "\n",
        "1. `p`: het onbekende punt dat je wilt classificeren\n",
        "2. `points`: een lijst met bekende punten (coördinaten)\n",
        "3. `classes`: een lijst met de bijbehorende klassen (labels)\n",
        "\n",
        "Je mag ervan uitgaan dat:\n",
        "- de **indexen** in `points` en `classes` bij elkaar horen\n",
        "- dus: het punt op index `i` heeft zijn klasse op index `i` in de `classes`-lijst\n",
        "\n",
        "---\n",
        "\n",
        "### ✅ Wat moet de functie doen?\n",
        "\n",
        "- Vind het dichtstbijzijnde punt in de `points`-lijst, vergeleken met `p`\n",
        "- Kijk welke klasse dat punt heeft in de `classes`-lijst\n",
        "- Geef die klasse terug als resultaat (bijv. `-1` of `1`)\n",
        "\n",
        "Deze waarde noemen we: `nearest_point_class`\n",
        "\n",
        "---\n",
        "\n",
        "### 💡 Tip:\n",
        "\n",
        "Je mag (en moet!) delen van je code uit de vorige opdracht hergebruiken.  \n",
        "Let wel op een belangrijk verschil:  \n",
        "In deze functie werk je met **argumenten** (`points`, `classes`),  \n",
        "en **niet** meer met de globale variabelen `training_points` en `training_classes`.\n",
        "\n",
        "Door de gegevens via parameters mee te geven, kun je dezelfde functie gebruiken voor verschillende datasets — veel flexibeler dus!  \n",
        "In het algemeen geldt: gebruik liever **functie-argumenten** dan globale variabelen.\n"
      ],
      "metadata": {
        "id": "6G5-BGEHCHoc"
      }
    },
    {
      "cell_type": "code",
      "source": [
        "\n",
        "def nearest_neighbour(p, points, classes):\n",
        "    # Set current closest distance to something very far away\n",
        "    nearest_distance = math.inf\n",
        "    nearest_point = None\n",
        "    nearest_point_class = None\n",
        "\n",
        "    # Loop over the indices in the points list\n",
        "    for i in range(len(points)):\n",
        "\n",
        "        # YOUR CODE HERE\n",
        "\n",
        "    return nearest_point_class\n",
        "\n",
        "\n",
        "# Classify the test point based on the nearest neighbour\n",
        "test_class = nearest_neighbour(test_point, training_points, training_classes)\n",
        "\n",
        "print(f'The class of the closest training point to the test point is {test_class}')"
      ],
      "metadata": {
        "id": "OjwKLX36BXDd"
      },
      "execution_count": null,
      "outputs": []
    },
    {
      "cell_type": "code",
      "source": [
        "# Testing cell\n",
        "assert nearest_neighbour([11, 17], training_points, training_classes) == -1, 'Classification is incorrect!'\n",
        "assert nearest_neighbour([35, 30], training_points, training_classes) == 1, 'Classification is incorrect!'\n",
        "assert nearest_neighbour([10, 35], training_points, training_classes) == -1, 'Classification is incorrect!'\n",
        "\n",
        "assert nearest_neighbour([30, 31], [[33, 45], [55, 60]], [5, 7]) == 5, 'Incorrect use of global variables!'\n",
        "assert nearest_neighbour([57, 62], [[33, 45], [55, 60]], [5, 7]) == 7, 'Incorrect use of global variables!'\n",
        "assert test_class == -1, 'Incorrect class for the test point.'; print('Solution seems correct!')"
      ],
      "metadata": {
        "id": "HiiyL3JVCd6G"
      },
      "execution_count": null,
      "outputs": []
    },
    {
      "cell_type": "markdown",
      "source": [
        "## Visualisatie van classificatieresultaten\n",
        "\n",
        "Laten we nu proberen om de **juiste klasse (label)** te visualiseren van het dichtstbijzijnde trainingspunt, voor elk mogelijk testpunt in dit vlak.  \n",
        "Hiervoor kunnen we een zogeheten **Voronoi-diagram** maken. Dit is een verdeling van het vlak in verschillende gebieden, waarbij elk gebied bestaat uit alle punten die het dichtstbij een specifiek datapunt liggen.\n",
        "\n",
        "Dit komt precies overeen met wat een **Nearest Neighbour-classifier** doet!\n",
        "\n",
        "We kunnen dan elk gebied een kleur geven:\n",
        "- Gebieden met klasse `1` kleuren we **blauw**\n",
        "- Gebieden met klasse `-1` kleuren we **rood**\n",
        "\n",
        "Als het diagram klaar is, kun je **alleen op basis van de kleur** zien wat de klasse is van elk nieuw testpunt.\n",
        "\n",
        "<img src=\"https://upload.wikimedia.org/wikipedia/commons/thumb/5/54/Euclidean_Voronoi_diagram.svg/1024px-Euclidean_Voronoi_diagram.svg.png\" width=\"300\"/>\n",
        "\n",
        "\n",
        "\n",
        "---\n",
        "\n",
        "### 🔲 Decision Boundary\n",
        "\n",
        "De zwarte lijn in deze afbeelding noemen we de **beslissingsgrens** (*Decision Boundary*).  \n",
        "Dat is de grens in het vlak waar de voorspelde klasse omschakelt van de ene naar de andere.\n",
        "\n",
        "Punten die precies op deze grens liggen, zijn **even ver verwijderd** van het dichtstbijzijnde blauwe punt als van het dichtstbijzijnde rode punt.  \n",
        "Voor zulke punten is het lastig te zeggen wat de juiste klasse is — ze liggen precies op het kantelpunt.  \n",
        "Vaak wordt er dan willekeurig een klasse gekozen om de \"gelijkstand\" te doorbreken.\n",
        "\n",
        "---\n",
        "\n",
        "## Opdracht 4: Benader de classificatieverdeling door te samplen\n",
        "\n",
        "Een **exact Voronoi-diagram maken** is behoorlijk ingewikkeld,  \n",
        "maar we kunnen een **goede benadering** maken door:\n",
        "1. Een groot aantal punten in het vlak te samplen (uitproberen)\n",
        "2. Voor elk van die punten te bepalen wat het dichtstbijzijnde trainingspunt is\n",
        "3. De bijbehorende klasse te gebruiken voor de kleur van dat samplepunt\n",
        "\n",
        "---\n",
        "\n",
        "Hieronder vind je al wat code die de x- en y-coördinaten afloopt en samplepunten maakt.\n",
        "\n",
        "Maak de code af zodat:\n",
        "- De lijst `sample_points` gevuld wordt met coördinaten van testpunten\n",
        "- De lijst `sample_classes` gevuld wordt met de juiste klasse van elk testpunt\n",
        "\n",
        "Gebruik hiervoor jouw eerder gemaakte functie `nearest_neighbour()` om voor elk testpunt te bepalen welke klasse het krijgt.\n",
        "\n",
        "Het resultaat moet een ruwe (maar duidelijke) benadering zijn van het echte Voronoi-diagram hierboven.  \n",
        "Denk goed na over **waarom** jouw resultaat op het diagram lijkt, **voordat je doorgaat naar het volgende deel**.\n"
      ],
      "metadata": {
        "id": "QmB87WmUDA6C"
      }
    },
    {
      "cell_type": "code",
      "source": [
        "# Aantal samplepunten in de x- en y-richting\n",
        "N = 40\n",
        "\n",
        "# Lijsten om samplepunten en hun voorspelde klassen in op te slaan\n",
        "sample_points = []\n",
        "sample_classes = []\n",
        "\n",
        "# Loop over alle x- en y-coördinaten binnen het bereik\n",
        "for x in range(N):\n",
        "    for y in range(N):\n",
        "        # Maak een nieuw testpunt (sample point) aan op locatie (x, y)\n",
        "        point = [x, y]\n",
        "\n",
        "        # Bepaal de voorspelde klasse met behulp van de classifier\n",
        "\n",
        "\n",
        "        # Voeg het testpunt toe aan de sample_points-lijst\n",
        "\n",
        "\n",
        "        # Voeg de voorspelde klas toe aan de sample_classes-lijst\n",
        "\n",
        "\n",
        "# Visualiseer alle samplepunten met hun voorspelde klasse\n",
        "plot_points(sample_points, sample_classes)\n"
      ],
      "metadata": {
        "id": "U3kk1xvxDDzn"
      },
      "execution_count": null,
      "outputs": []
    },
    {
      "cell_type": "markdown",
      "source": [
        "## k-Naaste Buren (k-Nearest Neighbours)\n",
        "\n",
        "Nu we een complete methode hebben om de **dichtstbijzijnde buur** (Nearest Neighbour) te vinden, is de stap naar het vinden van de **k dichtstbijzijnde buren** (k-Nearest Neighbours) eigenlijk heel klein.\n",
        "\n",
        "We kunnen gewoon onze methode om de dichtstbijzijnde buur te vinden **herhalen, k keer**, waarbij we elke keer punten overslaan die we al eerder als dichtstbijzijnde buur hebben gevonden.\n",
        "\n",
        "---\n",
        "\n",
        "## 🔑 Het `in` keyword\n",
        "\n",
        "Er zijn verschillende manieren om punten over te slaan die je al hebt gevonden.  \n",
        "De eenvoudigste methode is om het Python-keyword `in` te gebruiken, samen met een `if`-statement, om te controleren of een element al in een lijst voorkomt.\n",
        "\n",
        "---\n",
        "\n",
        "\n"
      ],
      "metadata": {
        "id": "cce87c3BGd39"
      }
    },
    {
      "cell_type": "code",
      "source": [
        "### ✏️ Voorbeeld: controleer of een punt in een lijst zit\n",
        "\n",
        "```python\n",
        "example_list = [[10, 12], [13, 4], [20, 5]]\n",
        "\n",
        "for point in [[20, 5], [30, 3]]:\n",
        "    point_present = point in example_list\n",
        "    print(f'\\nHet punt {point} zit in de lijst {example_list} : {point_present}')\n",
        "\n",
        "    if point in example_list:\n",
        "        print('✅ Het punt is gevonden!')\n",
        "\n",
        "    if point not in example_list:\n",
        "        print('❌ Het punt is niet gevonden.')"
      ],
      "metadata": {
        "id": "5aA_wZe7GTF8"
      },
      "execution_count": null,
      "outputs": []
    },
    {
      "cell_type": "markdown",
      "source": [
        " Opdracht 5: Vind de k dichtstbijzijnde buren\n",
        "\n",
        "Maak de onderstaande code af om alle k dichtstbijzijnde buren van test_point te vinden.\n",
        "\n",
        "Gebruik hiervoor je code uit de functie nearest_neighbour() van eerder. Je moet die logica hier herhalen.\n",
        "\n",
        "✅ Wat moet je doen?\n",
        "Herhaal het zoeken van de dichtstbijzijnde buur k keer\n",
        "Zorg dat je bij elke herhaling een ander punt vindt\n",
        "Houd een lijst bij van de al gevonden buren (neighbours_points)\n",
        "Vergelijk alleen nog punten die nog niet eerder als buur zijn gekozen\n",
        "Voeg na elke herhaling de gevonden buur en de bijbehorende klasse toe aan:\n",
        "neighbours_points\n",
        "neighbours_classes\n",
        "Gebruik het in keyword om te controleren of een punt al eerder gekozen is, zoals in het voorbeeld hierboven.\n",
        "\n",
        "Let op: deze code staat niet in een functie, dus gebruik je hier weer de globale variabelen training_points, training_classes en test_point.\n",
        "\n",
        "💡 Optioneel\n",
        "De oplossing hieronder is niet efficiënt, want je herberekent steeds alle afstanden.\n",
        "Wil je een extra uitdaging? Probeer dan een efficiëntere manier te bedenken om de k dichtstbijzijnde buren te vinden zonder telkens alles opnieuw uit te rekenen."
      ],
      "metadata": {
        "id": "Txl7398cG7Jr"
      }
    },
    {
      "cell_type": "code",
      "source": [
        "# Aantal buren om te vinden\n",
        "k = 3\n",
        "\n",
        "# Lijsten om de buren en hun klassen op te slaan\n",
        "neighbours_points = []\n",
        "neighbours_classes = []\n",
        "\n",
        "# Herhaal het zoeken van de dichtstbijzijnde buur k keer\n",
        "for k_count in range(k):\n",
        "    # Begin met een heel grote afstand\n",
        "    nearest_distance = math.inf\n",
        "    nearest_point = None\n",
        "    nearest_point_class = None\n",
        "\n",
        "    # YOUR CODE HERE\n",
        "    # → Loop over alle trainingspunten\n",
        "    # → Sla over als het punt al in neighbours_points zit\n",
        "    # → Bereken afstand tot test_point\n",
        "    # → Als deze afstand kleiner is dan nearest_distance:\n",
        "    #     → sla het punt en de klasse op\n",
        "\n",
        "# Toon de resultaten\n",
        "print(f'De {k} dichtstbijzijnde buren van het testpunt zijn: {neighbours_points}')\n",
        "print(f'De klassen van deze {k} buren zijn: {neighbours_classes}')\n"
      ],
      "metadata": {
        "id": "K5h_OkXpHY7e"
      },
      "execution_count": null,
      "outputs": []
    },
    {
      "cell_type": "code",
      "source": [
        "# Test of het resultaat klopt\n",
        "assert neighbours_points == [[18, 18], [20, 14], [26, 35]], 'Je hebt niet de juiste buren gevonden.'\n",
        "print('✅ Oplossing lijkt te kloppen!')\n"
      ],
      "metadata": {
        "id": "mrVsRDV6Hc53"
      },
      "execution_count": null,
      "outputs": []
    },
    {
      "cell_type": "markdown",
      "source": [
        "## Opdracht 6: Bepaal de voorspelde klasse\n",
        "\n",
        "Nu moeten we code toevoegen om de **voorspelde klasse** te bepalen van een onbekend datapunt.  \n",
        "Bij k-NN doen we dit door te kijken naar de **meest voorkomende klasse** onder de k dichtstbijzijnde buren.\n",
        "\n",
        "Omdat we eerder hebben gezegd dat er maar twee mogelijke klasses zijn (`-1` en `1`), kunnen we dit heel eenvoudig doen door:\n",
        "\n",
        "1. De klasses van de buren bij elkaar op te tellen\n",
        "2. Te kijken of de **som** positief, negatief of precies nul is\n",
        "\n",
        "---\n",
        "\n",
        "### 🧠 Wat betekent de som?\n",
        "\n",
        "- Als de som **positief** is → er zijn **meer buren met klasse `1`**\n",
        "- Als de som **negatief** is → er zijn **meer buren met klasse `-1`**\n",
        "- Als de som precies **nul** is → er zijn **evenveel buren met klasse `-1` als met `1`**\n",
        "\n",
        "In dat laatste geval (gelijkspel) mag je zelf kiezen:\n",
        "- Altijd toewijzen aan `1`, **of**\n",
        "- Altijd toewijzen aan `-1` — maak daarin een keuze en blijf daarbij.\n",
        "\n",
        "---\n",
        "\n",
        "### 🧩 Wat moet je doen?\n",
        "\n",
        "- Loop over de lijst `neighbours_classes` (die je eerder hebt gemaakt)\n",
        "- Tel alle klasses bij elkaar op (dus `-1` en `1`)\n",
        "- Kijk naar het teken van de som:\n",
        "  - Positief → `predicted_class = 1`\n",
        "  - Negatief → `predicted_class = -1`\n",
        "  - Gelijk aan 0 → kies er één (bijv. `1`)\n",
        "- Sla het resultaat op in de variabele `predicted_class`\n"
      ],
      "metadata": {
        "id": "-gii9rzHH4mr"
      }
    },
    {
      "cell_type": "code",
      "source": [
        "# Begin met optellen van alle klasses van de buren\n",
        "som = sum(neighbours_classes)\n",
        "\n",
        "# Bepaal de voorspelde klasse op basis van het teken van de som\n",
        "if som > 0:\n",
        "    predicted_class =   #wat moet hier?\n",
        "elif som < 0:\n",
        "    predicted_class =    #wat moet hier?\n",
        "else:\n",
        "    predicted_class =   # Kies zelf of je hier 1 of -1 gebruikt bij gelijkspel\n",
        "\n",
        "# Toon het resultaat\n",
        "print(f'The predicted class for the test point is {predicted_class}.')\n"
      ],
      "metadata": {
        "id": "i0i9O4ghH3uX"
      },
      "execution_count": null,
      "outputs": []
    },
    {
      "cell_type": "markdown",
      "source": [
        "## Opdracht 7: Bouw je eigen k-Nearest Neighbour-classifier\n",
        "\n",
        "Tot slot hoeven we alleen nog de laatste twee stappen te combineren in één functie: `knn()`.\n",
        "\n",
        "---\n",
        "\n",
        "### 🔧 Wat doet de functie?\n",
        "\n",
        "De functie `knn()` moet het volgende doen:\n",
        "- Ontvangen:\n",
        "  - een onbekend punt `p`\n",
        "  - een lijst van bekende punten (`points`)\n",
        "  - een lijst met bijbehorende klassen (`classes`)\n",
        "  - een getal `k` dat aangeeft hoeveel buren je wilt gebruiken\n",
        "- Teruggeven:\n",
        "  - de voorspelde klasse `predicted_class` voor punt `p`,  \n",
        "    op basis van de **k dichtstbijzijnde buren** uit de meegegeven gegevens\n",
        "\n",
        "---\n",
        "\n",
        "### 📌 Belangrijk:\n",
        "\n",
        "Deze functie moet **alleen afhankelijk zijn van de argumenten** die aan de functie worden meegegeven.  \n",
        "Je mag dus **geen globale variabelen gebruiken** zoals `training_points`, `training_classes` of `test_point`.\n",
        "\n",
        "Zorg ervoor dat je alles wat je nodig hebt als **parameter** in de functie opneemt.\n",
        "\n",
        "---\n",
        "\n",
        "### 🧠 Wat moet de functie doen (samengevat)?\n",
        "\n",
        "1. Vind de k dichtstbijzijnde buren van `p` (zoals je eerder hebt gedaan)\n",
        "2. Bepaal de klasses van deze buren\n",
        "3. Bereken de som van deze klasses\n",
        "4. Bepaal de voorspelde klasse (`-1` of `1`) op basis van de som\n",
        "5. Geef deze `predicted_class` terug als resultaat van de functie\n"
      ],
      "metadata": {
        "id": "6OAPIKujNS0W"
      }
    },
    {
      "cell_type": "code",
      "source": [
        "def knn(p, points, classes, k):\n",
        "    # Hierin slaan we de k dichtstbijzijnde punten op die we al gevonden hebben\n",
        "    neighbours_points = []\n",
        "\n",
        "    # Hierin slaan we de klassen (labels) van die punten op\n",
        "    neighbours_classes = []\n",
        "\n",
        "    # Herhaal het zoeken van de dichtstbijzijnde buur k keer\n",
        "    for _ in range(k):\n",
        "        # Start met een hele grote afstand, zodat elk echt punt dichterbij is\n",
        "        nearest_distance = math.inf\n",
        "        nearest_point = None\n",
        "        nearest_point_class = None\n",
        "\n",
        "        # Loop door alle trainingspunten heen\n",
        "        for i in range(len(points)):\n",
        "            point = points[i]\n",
        "\n",
        "            # Sla dit punt over als we het al eerder als buur hebben gekozen\n",
        "            if point in neighbours_points:\n",
        "                continue\n",
        "\n",
        "            # Bereken de afstand tussen p en het trainingspunt\n",
        "            afstand = dist(p, point)\n",
        "\n",
        "            # Als dit punt dichterbij is dan wat we tot nu toe hadden:\n",
        "            if afstand < nearest_distance:\n",
        "                nearest_distance = afstand            # sla de nieuwe kleinste afstand op\n",
        "                nearest_point = point                # sla het punt zelf op\n",
        "                nearest_point_class = classes[i]     # sla ook de bijbehorende klasse op\n",
        "\n",
        "        # Voeg de gevonden buur toe aan de lijst met buren\n",
        "        neighbours_points.append(nearest_point)\n",
        "\n",
        "        # Voeg de klasse van deze buur toe aan de lijst met klassen\n",
        "        neighbours_classes.append(nearest_point_class)\n",
        "\n",
        "    # Tel alle klasses bij elkaar op (bv. -1, 1, 1 → som = 1)\n",
        "    som = sum(neighbours_classes)\n",
        "\n",
        "    # Bepaal de voorspelde klasse op basis van het teken van de som\n",
        "    if som > 0:\n",
        "        predicted_class = 1\n",
        "    elif som < 0:\n",
        "        predicted_class = -1\n",
        "    else:\n",
        "        predicted_class = 1  # Bij gelijkspel kiezen we bijvoorbeeld altijd 1\n",
        "\n",
        "    # Geef de voorspelde klasse terug\n",
        "    return predicted_class\n",
        "\n"
      ],
      "metadata": {
        "id": "ToHywg-iNWVG"
      },
      "execution_count": null,
      "outputs": []
    },
    {
      "cell_type": "code",
      "source": [
        "# Testing cell\n",
        "assert knn(test_point, training_points, training_classes, 3) == 1, \"Incorrect classification\"\n",
        "assert knn(test_point, training_points, training_classes, 5) == -1, \"Doesn't work correctly with larger k\"\n",
        "assert knn(test_point, training_points, training_classes, 9) == 1, \"Doesn't work correctly with larger k\"\n",
        "\n",
        "assert knn([20, 10], training_points, training_classes, 3) == 1, \"Doesn't work correctly with new points\"\n",
        "assert knn([10, 30], training_points, training_classes, 3) == -1, \"Doesn't work correctly with new points\"\n",
        "\n",
        "assert knn([30, 31], [[33, 45], [55, 60]], [1, -1], 1) == 1, 'Incorrect use of global variables in knn'\n",
        "assert knn([57, 62], [[33, 45], [55, 60]], [1, -1], 1) == -1, 'Incorrect use of global variables in knn'\n",
        "assert test_class == 1, 'The test point was classified incorrectly.'; print('Solution seems correct!')"
      ],
      "metadata": {
        "id": "BSFG7bCSNl3i"
      },
      "execution_count": null,
      "outputs": []
    },
    {
      "cell_type": "markdown",
      "source": [
        "## Opdracht 8: Visualisatie van k-NN\n",
        "\n",
        "Wanneer je een dataset onderzoekt of een algoritme evalueert, kan het maken van duidelijke visualisaties van de data **heel waardevol** zijn.  \n",
        "Een **interactieve datavisualisatie** geeft je zelfs de mogelijkheid om bepaalde onderdelen van het algoritme te veranderen tijdens het kijken.  \n",
        "Soms geeft dit meer inzicht dan een statisch plaatje.\n",
        "\n",
        "---\n",
        "\n",
        "### 🧪 Wat ga je doen?\n",
        "\n",
        "Hieronder hebben we alvast wat code voor je klaargezet om een **interactieve versie** te maken van de eerdere k-NN-visualisatie, met behulp van `ipywidgets`.\n",
        "\n",
        "Maak deze functie af zodat:\n",
        "\n",
        "- De lijst `sample_points` gevuld wordt met testpunten (zoals eerder)\n",
        "- De lijst `sample_classes` gevuld wordt met de bijbehorende voorspelde klassen\n",
        "\n",
        "Gebruik uiteraard je eerder gemaakte functie `knn()` om voor elk testpunt de klasse te bepalen op basis van de **k dichtstbijzijnde buren**.\n",
        "\n",
        "---\n",
        "\n",
        "### ⏳ Let op:\n",
        "\n",
        "De interactieve grafiek **kan even duren** om te laden.  \n",
        "Dat komt doordat het k-NN-algoritme voor **elke punt in de grafiek opnieuw** wordt uitgevoerd.  \n",
        "Wanneer je de schuifregelaar gebruikt om de waarde van `k` aan te passen, zul je dus **even geduld** moeten hebben voordat de nieuwe grafiek verschijnt.\n"
      ],
      "metadata": {
        "id": "tLaqqwY_OSY-"
      }
    },
    {
      "cell_type": "code",
      "source": [
        "from ipywidgets import interact, fixed\n",
        "import ipywidgets as widgets\n",
        "\n",
        "def plot_knn(k, points, classes):\n",
        "    # Aantal samplepunten in x- en y-richting\n",
        "    N = 40\n",
        "\n",
        "    # Lijsten waarin we samplepunten en voorspelde klasses opslaan\n",
        "    sample_points = []\n",
        "    sample_classes = []\n",
        "\n",
        "    # Loop over alle x- en y-coördinaten\n",
        "    for x in range(N):\n",
        "        for y in range(N):\n",
        "            # Maak een nieuw samplepunt\n",
        "            sample = [x, y]\n",
        "\n",
        "            # YOUR CODE HERE:\n",
        "            # - Voeg het punt toe aan sample_points\n",
        "            # - Bepaal de voorspelde klas met je knn() functie\n",
        "            # - Voeg de voorspelde klas toe aan sample_classes\n",
        "\n",
        "    # Teken de visualisatie\n",
        "    plot_points(sample_points, sample_classes)\n",
        "\n",
        "# Maak een interactieve slider voor k\n",
        "interact(\n",
        "    plot_knn,\n",
        "    k=widgets.IntSlider(value=1, min=1, max=11, step=2, continuous_update=False),\n",
        "    points=fixed(training_points),\n",
        "    classes=fixed(training_classes)\n",
        ");\n"
      ],
      "metadata": {
        "id": "u9IWb3WPOaHv"
      },
      "execution_count": null,
      "outputs": []
    },
    {
      "cell_type": "markdown",
      "source": [
        "**Vraag 1**  \n",
        "Tot nu toe hebben we in dit notebook alleen oneven waarden voor `k` gebruikt.  \n",
        "Welk mogelijk probleem kan optreden als je een **even** waarde gebruikt voor `k`?  \n",
        "Bijvoorbeeld: `k = 2`, `k = 4`, `k = 6`, enzovoort."
      ],
      "metadata": {
        "id": "PVX_Pz0EO0Uo"
      }
    },
    {
      "cell_type": "markdown",
      "source": [
        "_Jouw antwoord komt hier..."
      ],
      "metadata": {
        "id": "pHXz73Y4O3v5"
      }
    },
    {
      "cell_type": "markdown",
      "source": [
        "**Vraag 2**  \n",
        "Wat lijkt er te gebeuren met de classificaties als `k = 11` is?  \n",
        "Waarom gebeurt dit?\n"
      ],
      "metadata": {
        "id": "Sm4MeA0NO6KV"
      }
    },
    {
      "cell_type": "markdown",
      "source": [
        "_Jouw antwoord komt hier..."
      ],
      "metadata": {
        "id": "6NzZPG2IO_gm"
      }
    },
    {
      "cell_type": "markdown",
      "source": [
        "**Vraag 3**  \n",
        "Wat is de **afweging (trade-off)** die je maakt wanneer je de waarde van `k` verhoogt?\n"
      ],
      "metadata": {
        "id": "OY9uV6_FO_o8"
      }
    },
    {
      "cell_type": "markdown",
      "source": [
        "_Jouw antwoord komt hier..."
      ],
      "metadata": {
        "id": "nvSa1k7iO_wv"
      }
    },
    {
      "cell_type": "markdown",
      "source": [
        "**Vraag 4**  \n",
        "Wanneer zou je liever een **kleine waarde** voor `k` gebruiken, en wanneer een **grotere waarde**?\n"
      ],
      "metadata": {
        "id": "zE_88t87O_3o"
      }
    },
    {
      "cell_type": "markdown",
      "source": [
        "_Jouw antwoord komt hier..."
      ],
      "metadata": {
        "id": "Try-zjk3O_93"
      }
    },
    {
      "cell_type": "code",
      "source": [],
      "metadata": {
        "id": "BQSrnwJ-PJqb"
      },
      "execution_count": null,
      "outputs": []
    }
  ]
}